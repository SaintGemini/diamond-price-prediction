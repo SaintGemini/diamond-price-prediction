{
 "cells": [
  {
   "cell_type": "markdown",
   "id": "a1be9433",
   "metadata": {},
   "source": [
    "# Section 1: Business Understanding\n",
    "\n",
    "### For anyone who hasn't been in the gem industry, it might be hard to know what determines the price of diamonds. In this notebook we will explore what exactly goes into pricing a diamond and how much each aspect affects the price.\n",
    "\n",
    "* Question 1: Does a certain shape of diamond cost more than another?\n",
    "* Question 2: How much do the 4 C's affect the price of a diamond?\n",
    "* Question 3: Is it possible to know if you're getting a good price?\n",
    "\n",
    "The Gemological Institute of America is the authority on diamond grading. They use the 4 C's to grade a diamond. Their grading charts and other information can be found here: https://4cs.gia.edu/en-us/blog/gia-diamond-grading-scales/"
   ]
  },
  {
   "cell_type": "code",
   "execution_count": 12,
   "id": "9544e098",
   "metadata": {},
   "outputs": [],
   "source": [
    "import numpy as np\n",
    "import pandas as pd\n",
    "import matplotlib.pyplot as plt\n",
    "from sklearn.linear_model import LinearRegression\n",
    "from sklearn.model_selection import train_test_split\n",
    "from sklearn.metrics import r2_score, mean_squared_error"
   ]
  },
  {
   "cell_type": "markdown",
   "id": "9ba53ad5",
   "metadata": {},
   "source": [
    "# Section 2: Data Understanding\n",
    "\n",
    "Thanks to kaggle, I have obtained some diamond data sets that can be found here: https://www.kaggle.com/harshitlakhani/natural-diamonds-prices-images\n",
    "\n",
    "The data (structured by the user who uploaded it to kaggle) is in multiple folders. Previous to starting this notebook I combined all the csv files into one named, _combined-data.csv_, so it will be easier for us to work with.\n",
    "\n",
    "Let's read in the data and see what variables we are working with."
   ]
  },
  {
   "cell_type": "code",
   "execution_count": 13,
   "id": "50e9fc58",
   "metadata": {},
   "outputs": [
    {
     "data": {
      "text/plain": [
       "Id               object\n",
       "Shape            object\n",
       "Weight          float64\n",
       "Clarity          object\n",
       "Colour           object\n",
       "Cut              object\n",
       "Polish           object\n",
       "Symmetry         object\n",
       "Fluorescence     object\n",
       "Measurements     object\n",
       "Price           float64\n",
       "Data Url         object\n",
       "dtype: object"
      ]
     },
     "execution_count": 13,
     "metadata": {},
     "output_type": "execute_result"
    }
   ],
   "source": [
    "# read in data set\n",
    "df = pd.read_csv('./data/combined-data.csv')\n",
    "df.dtypes"
   ]
  },
  {
   "cell_type": "markdown",
   "id": "2f61288e",
   "metadata": {},
   "source": [
    "# Section 3: Data Preparation\n",
    "\n",
    "### Steps to clean data:\n",
    "\n",
    "* Check if all data types are as they should be.\n",
    "* Check if any missing values in the 4 C's of diamond grading (Those determine the price more than any other factor).\n",
    "* If any missing values in the 4 C's, delete those rows\n"
   ]
  },
  {
   "cell_type": "code",
   "execution_count": 14,
   "id": "19fa944c",
   "metadata": {},
   "outputs": [
    {
     "data": {
      "text/plain": [
       "Id                 0\n",
       "Shape              0\n",
       "Weight             0\n",
       "Clarity           25\n",
       "Colour             0\n",
       "Cut                2\n",
       "Polish             1\n",
       "Symmetry           7\n",
       "Fluorescence       2\n",
       "Measurements       0\n",
       "Price              0\n",
       "Data Url        6271\n",
       "dtype: int64"
      ]
     },
     "execution_count": 14,
     "metadata": {},
     "output_type": "execute_result"
    }
   ],
   "source": [
    "# check to see if there are any missing values in the 4 C's\n",
    "df.isnull().sum()"
   ]
  },
  {
   "cell_type": "code",
   "execution_count": 15,
   "id": "35122ff7",
   "metadata": {},
   "outputs": [
    {
     "data": {
      "text/plain": [
       "Id                 0\n",
       "Shape              0\n",
       "Weight             0\n",
       "Clarity            0\n",
       "Colour             0\n",
       "Cut                0\n",
       "Polish             0\n",
       "Symmetry           6\n",
       "Fluorescence       0\n",
       "Measurements       0\n",
       "Price              0\n",
       "Data Url        6249\n",
       "dtype: int64"
      ]
     },
     "execution_count": 15,
     "metadata": {},
     "output_type": "execute_result"
    }
   ],
   "source": [
    "# drop the rows with missing values in these columns\n",
    "# without a value in any of the 4 C's, it is not possible to accuratly predict a price\n",
    "df = df.dropna(subset = ['Clarity', 'Cut'])\n",
    "df.isnull().sum()"
   ]
  },
  {
   "cell_type": "markdown",
   "id": "ef1d29c4",
   "metadata": {},
   "source": [
    "# Step 4: Evaluation"
   ]
  },
  {
   "cell_type": "markdown",
   "id": "5111cdea",
   "metadata": {},
   "source": [
    "# _Does a certain shape of diamond cost more than another?_\n",
    "###  Let's grab diamonds of the same carat to compare their price tag!"
   ]
  },
  {
   "cell_type": "code",
   "execution_count": 16,
   "id": "ecd1c8b4",
   "metadata": {},
   "outputs": [
    {
     "data": {
      "text/plain": [
       "0.50    1999\n",
       "0.30    1332\n",
       "0.23    1029\n",
       "0.40     385\n",
       "0.31     326\n",
       "        ... \n",
       "2.33       1\n",
       "0.99       1\n",
       "2.36       1\n",
       "1.46       1\n",
       "0.64       1\n",
       "Name: Weight, Length: 181, dtype: int64"
      ]
     },
     "execution_count": 16,
     "metadata": {},
     "output_type": "execute_result"
    }
   ],
   "source": [
    "# check most occuring weight of diamonds in dataset\n",
    "df['Weight'].value_counts()"
   ]
  },
  {
   "cell_type": "code",
   "execution_count": 18,
   "id": "132f91eb",
   "metadata": {},
   "outputs": [],
   "source": [
    "# grab diamonds that weigh half a carat\n",
    "hlf_crt = df[df['Weight'] == 0.5]\n",
    "shapes = ['ROUND', 'HEART', 'PRINCESS', 'OVAL', 'EMERALD', 'CUSHION', 'PEAR']"
   ]
  },
  {
   "cell_type": "code",
   "execution_count": 19,
   "id": "31c38baf",
   "metadata": {},
   "outputs": [],
   "source": [
    "# we need to find the average price for each shape and the\n",
    "# number of units sold for each shape.\n",
    "# This function helps the user control which shapes they \n",
    "# want to look for (if leaving one or a few out is desired)\n",
    "def calculate_mean_num_sold(dataframe, shapes):\n",
    "    '''\n",
    "    INPUT:\n",
    "    df - the pandas dataframe you want to search through\n",
    "    shapes - a list of strings correlating to which shapes you want to calculate\n",
    "             mean and number of units sold for\n",
    "             \n",
    "    OUTPUT:\n",
    "    means - a list of integers containing the means of diamond shapes in same order as the shapes list\n",
    "    nums_sold - a list of integers containing the number of units sold in same order as the shapes list\n",
    "    '''\n",
    "    means = []\n",
    "    num_sold = []\n",
    "    for cut in shapes:\n",
    "        tmp_df = dataframe[dataframe['Shape'] == cut]\n",
    "        means.append(tmp_df['Price'].mean())\n",
    "        num_sold.append(len(tmp_df['Price']))\n",
    "    \n",
    "    return means, num_sold\n",
    "\n",
    "means, num_sold = calculate_mean_num_sold(hlf_crt, shapes)"
   ]
  },
  {
   "cell_type": "code",
   "execution_count": 20,
   "id": "a34a37f3",
   "metadata": {},
   "outputs": [
    {
     "data": {
      "image/png": "[encoded data removed]",
      "text/plain": [
       "<Figure size 432x288 with 1 Axes>"
      ]
     },
     "metadata": {
      "needs_background": "light"
     },
     "output_type": "display_data"
    }
   ],
   "source": [
    "# plot average price for each shape of diamond\n",
    "plt.scatter(shapes, means)\n",
    "plt.xlabel(\"Shapes\")\n",
    "plt.ylabel(\"Price\")\n",
    "plt.title(\"Average Price for a 0.5 carat diamond\")\n",
    "plt.show()"
   ]
  },
  {
   "cell_type": "markdown",
   "id": "872a27fe",
   "metadata": {},
   "source": [
    "It seems that the shapes that fetch the high prices are round and pear. They are nearly $400 more than any other shape while. Why are they so much more expensive? Let's use a basic understanding of economics. The more an item is in demand, the higher the price, right? \n",
    "\n",
    "We recorded the number of diamonds sold for each shape already. Let's see if demand does really have an affect on price."
   ]
  },
  {
   "cell_type": "code",
   "execution_count": 21,
   "id": "126ee01d",
   "metadata": {},
   "outputs": [
    {
     "data": {
      "image/png": "[encoded data removed]",
      "text/plain": [
       "<Figure size 432x288 with 1 Axes>"
      ]
     },
     "metadata": {
      "needs_background": "light"
     },
     "output_type": "display_data"
    }
   ],
   "source": [
    "# plot number of units sold for each shape, to see if demand influences price\n",
    "fig = plt.figure()\n",
    "ax = fig.add_axes([0,0,1,1])\n",
    "ax.bar(shapes, num_sold)\n",
    "plt.xlabel(\"Shapes\")\n",
    "plt.ylabel(\"Units Sold\")\n",
    "plt.title(\"Number of Units Sold\")\n",
    "plt.show()"
   ]
  },
  {
   "cell_type": "markdown",
   "id": "dfa32bd9",
   "metadata": {},
   "source": [
    "The number of round diamonds sold compared to the rest should come as no surprise. They have always been and probaly forever will be the most popular choice for an engagement ring. But pear shapes are barely sold, so why are they so high?\n",
    "\n",
    "This requires background knowledge in the gem industry. The price reflects the labor that goes into sourcing and cutting the diamond. They are one of the hardest shapes to work with.\n",
    "\n",
    "Other than pear, the graph matches the one above. Showing that demand does have influence on the price of different shaped diamonds."
   ]
  },
  {
   "cell_type": "markdown",
   "id": "91b1202b",
   "metadata": {},
   "source": [
    "# How much do the 4 C's affect the price of a diamond?\n",
    "\n",
    "* First let's see how carat affects the price. _Hint: It should be exponential_\n",
    "* In my experience in the gem industry, diamonds with a low grade of cut are hardly ever sold. Can we see if this is the case?\n",
    "* Color vs Clarity, which has more of an affect on price?"
   ]
  },
  {
   "cell_type": "code",
   "execution_count": 22,
   "id": "bebadc3a",
   "metadata": {},
   "outputs": [
    {
     "data": {
      "image/png": "[encoded data removed]",
      "text/plain": [
       "<Figure size 432x288 with 1 Axes>"
      ]
     },
     "metadata": {
      "needs_background": "light"
     },
     "output_type": "display_data"
    }
   ],
   "source": [
    "# Sort that data by carat in increasing order and plot carat to price\n",
    "sorted_df = df.sort_values(by=['Weight'])\n",
    "sorted_df = sorted_df[sorted_df['Weight'] < 5]\n",
    "plt.scatter(list(sorted_df['Weight']), list(sorted_df['Price']))\n",
    "plt.xlabel(\"Carat\")\n",
    "plt.ylabel(\"Price in USD\")\n",
    "plt.show()"
   ]
  },
  {
   "cell_type": "markdown",
   "id": "1fd35628",
   "metadata": {},
   "source": [
    "As you can see above, the general pattern for the influence on carat to price is exponential.\n",
    "Any outlier shows how much the other C's can affect the price."
   ]
  },
  {
   "cell_type": "code",
   "execution_count": 23,
   "id": "c6aa6cd2",
   "metadata": {},
   "outputs": [
    {
     "data": {
      "image/png": "[encoded data removed]",
      "text/plain": [
       "<Figure size 432x288 with 1 Axes>"
      ]
     },
     "metadata": {
      "needs_background": "light"
     },
     "output_type": "display_data"
    }
   ],
   "source": [
    "# Find how many diamonds of poor cut quality get sold\n",
    "round_df = df[df['Shape'] == 'ROUND']\n",
    "cut_grades = ['Excellent', 'Very Good', 'Good', 'Fair']\n",
    "values = list(round_df['Cut'].value_counts())\n",
    "plt.plot(cut_grades, values)\n",
    "plt.ylabel(\"Number of Diamonds Sold\")\n",
    "plt.xlabel(\"Grade of Cut\")\n",
    "plt.show()"
   ]
  },
  {
   "cell_type": "markdown",
   "id": "3a190e65",
   "metadata": {},
   "source": [
    "It will be very rare to get sold a diamond of poor cut quality. Most jewelry stores won't offer anything below _Very Good_ as an option. You should only expect to find diamonds of low cut quality if you buy wholesale."
   ]
  },
  {
   "cell_type": "markdown",
   "id": "c4d4df36",
   "metadata": {},
   "source": [
    "## Color vs Clarity: Which has more of an impact on price?\n",
    "Find stones that have similar characteristics and compare the price. \n",
    "All of them will be 0.5 carats and a cut grade of _EX_"
   ]
  },
  {
   "cell_type": "code",
   "execution_count": 24,
   "id": "1b1465ed",
   "metadata": {},
   "outputs": [],
   "source": [
    "# find a stone with good clarity and cut but a low color grade\n",
    "round_df = round_df[round_df['Weight'] == 0.5]\n",
    "bad_color_df = round_df[round_df['Colour'] == 'S-T']\n",
    "bad_color = bad_color_df['Price'].mean()"
   ]
  },
  {
   "cell_type": "code",
   "execution_count": 25,
   "id": "ac06ac56",
   "metadata": {},
   "outputs": [],
   "source": [
    "# find a stone with good color and cut, but a low clarity grade\n",
    "bad_c = round_df[round_df['Clarity'] == 'I1']\n",
    "bad_clarity_df = bad_c[bad_c['Colour'] == 'G']\n",
    "bad_clarity = bad_clarity_df['Price'].mean()"
   ]
  },
  {
   "cell_type": "code",
   "execution_count": 26,
   "id": "5a5e46da",
   "metadata": {},
   "outputs": [],
   "source": [
    "# find a stone with good color, clarity and cut\n",
    "round_df = round_df[round_df['Clarity'] == 'VS1']\n",
    "round_df = round_df[round_df['Colour'] == 'G']\n",
    "good_diamond = round_df['Price'].mean()"
   ]
  },
  {
   "cell_type": "code",
   "execution_count": 27,
   "id": "931b4da0",
   "metadata": {},
   "outputs": [
    {
     "data": {
      "text/plain": [
       "Text(0, 0.5, 'Price USD')"
      ]
     },
     "execution_count": 27,
     "metadata": {},
     "output_type": "execute_result"
    },
    {
     "data": {
      "image/png": "[encoded data removed]",
      "text/plain": [
       "<Figure size 432x288 with 1 Axes>"
      ]
     },
     "metadata": {
      "needs_background": "light"
     },
     "output_type": "display_data"
    }
   ],
   "source": [
    "# plot the prices of each stone to compare prices\n",
    "plt.scatter(['Bad Clarity', 'Bad Color', 'Good Grades'], [bad_clarity, bad_color, good_diamond])\n",
    "plt.title('0.5 Carat Diamonds with Similar Characteristics')\n",
    "plt.ylabel('Price USD')"
   ]
  },
  {
   "cell_type": "markdown",
   "id": "948403d9",
   "metadata": {},
   "source": [
    "Color has more of an impact on price which is no surprise. When people think of diamonds they think of colorless diamonds. On average a low grade of color diamond will be $1k less than a quality diamond with all good grades. \n",
    "\n",
    "Clarity on the other hand has a less significant impact on price than color but significant nontheless. The clarity of a diamond mirrors how well light bounces off the diamond. A diamond that doesn't shine too brightly won't fetch the same as a diamond that will."
   ]
  },
  {
   "cell_type": "markdown",
   "id": "7532ca1b",
   "metadata": {},
   "source": [
    "Although it is the combination of the 4 C's that make the price of a diamond it is important to know how each category affects it separatly. Carat is the most influential followed by cut, color and clarity."
   ]
  },
  {
   "cell_type": "markdown",
   "id": "1c125b9e",
   "metadata": {},
   "source": [
    "# Is it possible to know if you're getting a good price?\n",
    "\n",
    "### Plan: Create a basic linear regression model. Based on the data given (weighed mostly the 4 C's), it will predict the price of a diamond.\n",
    "\n",
    "Since most engagement rings are round diamonds we will focus on those.\n"
   ]
  },
  {
   "cell_type": "code",
   "execution_count": 28,
   "id": "40016c5a",
   "metadata": {},
   "outputs": [],
   "source": [
    "# grab all round diamonds and their prices\n",
    "round_df = df[df['Shape'] == 'ROUND']\n",
    "y = round_df['Price']"
   ]
  },
  {
   "cell_type": "code",
   "execution_count": 29,
   "id": "08d3d2c0",
   "metadata": {},
   "outputs": [],
   "source": [
    "# drop unneccesary data\n",
    "round_df = round_df.drop(['Id', 'Shape', 'Price', 'Data Url', 'Measurements'], axis=1)"
   ]
  },
  {
   "cell_type": "code",
   "execution_count": 30,
   "id": "99a57221",
   "metadata": {},
   "outputs": [],
   "source": [
    "# create dummy variables for categorical data\n",
    "cat_cols = round_df.select_dtypes(include=['object']).copy().columns\n",
    "for var in cat_cols:\n",
    "    round_df = pd.concat([round_df.drop(var, axis=1), pd.get_dummies(round_df[var], prefix=var, prefix_sep='_', drop_first=True)], axis=1)\n",
    "X = round_df"
   ]
  },
  {
   "cell_type": "code",
   "execution_count": 31,
   "id": "e9a4b9c5",
   "metadata": {},
   "outputs": [
    {
     "name": "stdout",
     "output_type": "stream",
     "text": [
      "The r-squared on the training data was 0.9214381403911955\n",
      "The r-squared on the test data was 0.9367783926755183\n"
     ]
    }
   ],
   "source": [
    "X_train, X_test, y_train, y_test = train_test_split(X, y, test_size=.30, random_state=42) #split data into train/test\n",
    "lm_model = LinearRegression() # Instantiate\n",
    "lm_model.fit(X_train, y_train) #Fit\n",
    "\n",
    "# Predict using your model\n",
    "y_test_preds = lm_model.predict(X_test)\n",
    "y_train_preds = lm_model.predict(X_train)\n",
    "\n",
    "# Score using your model\n",
    "test_score = r2_score(y_test, y_test_preds)\n",
    "train_score = r2_score(y_train, y_train_preds)\n",
    "\n",
    "print('The r-squared on the training data was', train_score)\n",
    "print('The r-squared on the test data was', test_score)"
   ]
  },
  {
   "cell_type": "markdown",
   "id": "f794b584",
   "metadata": {},
   "source": [
    "The r-squared value shows that the data the model was fed accounted for 93.67% of the variance. AMAZING!\n",
    "\n",
    "Simply with the 4 C's can a model predict the price of a diamond.\n",
    "\n",
    "With more data and a more experienced data scientist (me in the future). I could make a working model that anyone can use."
   ]
  },
  {
   "cell_type": "code",
   "execution_count": null,
   "id": "2dd27a99",
   "metadata": {},
   "outputs": [],
   "source": []
  }
 ],
 "metadata": {
  "kernelspec": {
   "display_name": "Python 3 (ipykernel)",
   "language": "python",
   "name": "python3"
  },
  "language_info": {
   "codemirror_mode": {
    "name": "ipython",
    "version": 3
   },
   "file_extension": ".py",
   "mimetype": "text/x-python",
   "name": "python",
   "nbconvert_exporter": "python",
   "pygments_lexer": "ipython3",
   "version": "3.9.7"
  }
 },
 "nbformat": 4,
 "nbformat_minor": 5
}
