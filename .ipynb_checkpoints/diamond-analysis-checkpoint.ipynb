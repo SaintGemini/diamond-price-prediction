{
 "cells": [
  {
   "cell_type": "code",
   "execution_count": 1,
   "id": "9544e098",
   "metadata": {},
   "outputs": [],
   "source": [
    "import numpy as np\n",
    "import pandas as pd\n",
    "import matplotlib.pyplot as plt\n",
    "from sklearn.linear_model import LinearRegression\n",
    "from sklearn.model_selection import train_test_split\n",
    "from sklearn.metrics import r2_score, mean_squared_error"
   ]
  },
  {
   "cell_type": "code",
   "execution_count": 2,
   "id": "50e9fc58",
   "metadata": {},
   "outputs": [
    {
     "data": {
      "text/plain": [
       "Id               object\n",
       "Shape            object\n",
       "Weight          float64\n",
       "Clarity          object\n",
       "Colour           object\n",
       "Cut              object\n",
       "Polish           object\n",
       "Symmetry         object\n",
       "Fluorescence     object\n",
       "Measurements     object\n",
       "Price           float64\n",
       "Data Url         object\n",
       "dtype: object"
      ]
     },
     "execution_count": 2,
     "metadata": {},
     "output_type": "execute_result"
    }
   ],
   "source": [
    "# read in data set\n",
    "df = pd.read_csv('./data/combined-data.csv')\n",
    "df.dtypes"
   ]
  },
  {
   "cell_type": "code",
   "execution_count": 79,
   "id": "a38dc1b6",
   "metadata": {},
   "outputs": [
    {
     "data": {
      "text/plain": [
       "\"\\nSteps to clean data:\\n\\n1) Check if all data types are as they should be.\\n2) Check if any missing values in the 4 C's of diamond grading (Those determine the price more than any other factor).\\n3) If any missing values in the 4 C's, delete those rows\\n\""
      ]
     },
     "execution_count": 79,
     "metadata": {},
     "output_type": "execute_result"
    }
   ],
   "source": [
    "'''\n",
    "Steps to clean data:\n",
    "\n",
    "1) Check if all data types are as they should be.\n",
    "2) Check if any missing values in the 4 C's of diamond grading (Those determine the price more than any other factor).\n",
    "3) If any missing values in the 4 C's, delete those rows\n",
    "'''"
   ]
  },
  {
   "cell_type": "code",
   "execution_count": 3,
   "id": "19fa944c",
   "metadata": {},
   "outputs": [
    {
     "data": {
      "text/plain": [
       "Id                 0\n",
       "Shape              0\n",
       "Weight             0\n",
       "Clarity           25\n",
       "Colour             0\n",
       "Cut                2\n",
       "Polish             1\n",
       "Symmetry           7\n",
       "Fluorescence       2\n",
       "Measurements       0\n",
       "Price              0\n",
       "Data Url        6271\n",
       "dtype: int64"
      ]
     },
     "execution_count": 3,
     "metadata": {},
     "output_type": "execute_result"
    }
   ],
   "source": [
    "df.isnull().sum()"
   ]
  },
  {
   "cell_type": "code",
   "execution_count": 4,
   "id": "35122ff7",
   "metadata": {},
   "outputs": [
    {
     "data": {
      "text/plain": [
       "Id                 0\n",
       "Shape              0\n",
       "Weight             0\n",
       "Clarity            0\n",
       "Colour             0\n",
       "Cut                0\n",
       "Polish             0\n",
       "Symmetry           6\n",
       "Fluorescence       0\n",
       "Measurements       0\n",
       "Price              0\n",
       "Data Url        6249\n",
       "dtype: int64"
      ]
     },
     "execution_count": 4,
     "metadata": {},
     "output_type": "execute_result"
    }
   ],
   "source": [
    "# drop the rows with missing values in these columns\n",
    "df = df.dropna(subset = ['Clarity', 'Cut'])\n",
    "df.isnull().sum()"
   ]
  },
  {
   "cell_type": "code",
   "execution_count": null,
   "id": "a5ff222a",
   "metadata": {},
   "outputs": [],
   "source": []
  },
  {
   "cell_type": "code",
   "execution_count": 12,
   "id": "814fdaf9",
   "metadata": {},
   "outputs": [],
   "source": [
    "'''\n",
    "Explore the questions of: Does a certain shape of diamond cost more than another?\n",
    "Grab diamonds of same carat to compare value in different shapes\n",
    "'''"
   ]
  },
  {
   "cell_type": "code",
   "execution_count": 5,
   "id": "ecd1c8b4",
   "metadata": {},
   "outputs": [
    {
     "data": {
      "text/plain": [
       "0.50    1999\n",
       "0.30    1332\n",
       "0.23    1029\n",
       "0.40     385\n",
       "0.31     326\n",
       "        ... \n",
       "2.33       1\n",
       "0.99       1\n",
       "2.36       1\n",
       "1.46       1\n",
       "0.64       1\n",
       "Name: Weight, Length: 181, dtype: int64"
      ]
     },
     "execution_count": 5,
     "metadata": {},
     "output_type": "execute_result"
    }
   ],
   "source": [
    "# check most occuring weight of diamonds in dataset\n",
    "df['Weight'].value_counts()"
   ]
  },
  {
   "cell_type": "code",
   "execution_count": 6,
   "id": "132f91eb",
   "metadata": {},
   "outputs": [
    {
     "name": "stdout",
     "output_type": "stream",
     "text": [
      "[2012.1738067226868, 1009.5, 1544.6814090909093, 1586.6120477815705, 1331.709, 1348.5450289017335, 1987.5276190476195]\n",
      "[1190, 11, 220, 293, 70, 173, 42]\n"
     ]
    }
   ],
   "source": [
    "# grab diamonds that weigh half a carat\n",
    "hlf_crt = df[df['Weight'] == 0.5]\n",
    "shapes = ['ROUND', 'HEART', 'PRINCESS', 'OVAL', 'EMERALD', 'CUSHION', 'PEAR']\n",
    "means = []\n",
    "num_sold = []\n",
    "# calculate mean and number of units sold for each shape\n",
    "for cut in shapes:\n",
    "    tmp_df = hlf_crt[hlf_crt['Shape'] == cut]\n",
    "    means.append(tmp_df['Price'].mean())\n",
    "    num_sold.append(len(tmp_df['Price']))\n",
    "print(means)\n",
    "print(num_sold)"
   ]
  },
  {
   "cell_type": "code",
   "execution_count": 6,
   "id": "f7c52841",
   "metadata": {},
   "outputs": [],
   "source": []
  },
  {
   "cell_type": "code",
   "execution_count": 7,
   "id": "a34a37f3",
   "metadata": {},
   "outputs": [
    {
     "data": {
      "image/png": "[encoded data removed]",
      "text/plain": [
       "<Figure size 432x288 with 1 Axes>"
      ]
     },
     "metadata": {
      "needs_background": "light"
     },
     "output_type": "display_data"
    }
   ],
   "source": [
    "# plot average price for each shape of diamond\n",
    "plt.scatter(shapes, means)\n",
    "plt.xlabel(\"Cuts\")\n",
    "plt.ylabel(\"Price\")\n",
    "plt.title(\"Average Price for a 0.5 carat diamond\")\n",
    "plt.show()"
   ]
  },
  {
   "cell_type": "code",
   "execution_count": 109,
   "id": "126ee01d",
   "metadata": {},
   "outputs": [
    {
     "data": {
      "image/png": "[encoded data removed]",
      "text/plain": [
       "<Figure size 432x288 with 1 Axes>"
      ]
     },
     "metadata": {
      "needs_background": "light"
     },
     "output_type": "display_data"
    }
   ],
   "source": [
    "# plot number of units sold for each shape, to see if demand influences price\n",
    "fig = plt.figure()\n",
    "ax = fig.add_axes([0,0,1,1])\n",
    "ax.bar(shapes, num_sold)\n",
    "plt.xlabel(\"Cuts\")\n",
    "plt.ylabel(\"Units Sold\")\n",
    "plt.title(\"Number of Units Sold\")\n",
    "plt.show()"
   ]
  },
  {
   "cell_type": "code",
   "execution_count": null,
   "id": "760bd84d",
   "metadata": {},
   "outputs": [],
   "source": [
    "'''\n",
    "Exploring the question: How much do the 4 C's affect the price of a diamond?\n",
    "\n",
    "1) No need to worry about cut quality because any diamond being sold as an engagement ring\n",
    "   will have a cut quality of VG or EX. Jewelry stores or custom designers will literally refuse to\n",
    "   sell anything less than those two.\n",
    "'''"
   ]
  },
  {
   "cell_type": "code",
   "execution_count": 110,
   "id": "bebadc3a",
   "metadata": {},
   "outputs": [
    {
     "data": {
      "image/png": "[encoded data removed]",
      "text/plain": [
       "<Figure size 432x288 with 1 Axes>"
      ]
     },
     "metadata": {
      "needs_background": "light"
     },
     "output_type": "display_data"
    }
   ],
   "source": [
    "# show the general pattern for carat price influence (exponential)\n",
    "sorted_df = df.sort_values(by=['Weight'])\n",
    "sorted_df = sorted_df[sorted_df['Weight'] < 5]\n",
    "plt.scatter(list(sorted_df['Weight']), list(sorted_df['Price']))\n",
    "plt.xlabel(\"Carat\")\n",
    "plt.ylabel(\"Price in USD\")\n",
    "plt.show()"
   ]
  },
  {
   "cell_type": "code",
   "execution_count": 111,
   "id": "c6aa6cd2",
   "metadata": {},
   "outputs": [
    {
     "data": {
      "image/png": "[encoded data removed]",
      "text/plain": [
       "<Figure size 432x288 with 1 Axes>"
      ]
     },
     "metadata": {
      "needs_background": "light"
     },
     "output_type": "display_data"
    }
   ],
   "source": [
    "# Find how many diamonds of poor cut quality get sold\n",
    "round_df = df[df['Shape'] == 'ROUND']\n",
    "cut_grades = ['Excellent', 'Very Good', 'Good', 'Fair']\n",
    "values = list(round_df['Cut'].value_counts())\n",
    "plt.plot(cut_grades, values)\n",
    "plt.ylabel(\"Number of Diamonds Sold\")\n",
    "plt.xlabel(\"Grade of Cut\")\n",
    "plt.show()"
   ]
  },
  {
   "cell_type": "code",
   "execution_count": null,
   "id": "925c42ee",
   "metadata": {},
   "outputs": [],
   "source": [
    "'''\n",
    "Find influence of prices for color and clarity by comparing diamonds with similar characteristics.\n",
    "'''"
   ]
  },
  {
   "cell_type": "code",
   "execution_count": 112,
   "id": "1b1465ed",
   "metadata": {},
   "outputs": [],
   "source": [
    "round_df = round_df[round_df['Weight'] == 0.5]\n",
    "bad_color_df = round_df[round_df['Colour'] == 'S-T']\n",
    "bad_color = bad_color_df['Price'].mean()"
   ]
  },
  {
   "cell_type": "code",
   "execution_count": 113,
   "id": "ac06ac56",
   "metadata": {},
   "outputs": [],
   "source": [
    "bad_c = round_df[round_df['Clarity'] == 'I1']\n",
    "bad_clarity_df = bad_c[bad_c['Colour'] == 'G']\n",
    "bad_clarity = bad_clarity_df['Price'].mean()"
   ]
  },
  {
   "cell_type": "code",
   "execution_count": 115,
   "id": "5a5e46da",
   "metadata": {},
   "outputs": [],
   "source": [
    "round_df = round_df[round_df['Clarity'] == 'VS1']\n",
    "round_df = round_df[round_df['Colour'] == 'G']\n",
    "good_diamond = round_df['Price'].mean()"
   ]
  },
  {
   "cell_type": "code",
   "execution_count": 119,
   "id": "931b4da0",
   "metadata": {},
   "outputs": [
    {
     "data": {
      "text/plain": [
       "Text(0, 0.5, 'Price USD')"
      ]
     },
     "execution_count": 119,
     "metadata": {},
     "output_type": "execute_result"
    },
    {
     "data": {
      "image/png": "[encoded data removed]",
      "text/plain": [
       "<Figure size 432x288 with 1 Axes>"
      ]
     },
     "metadata": {
      "needs_background": "light"
     },
     "output_type": "display_data"
    }
   ],
   "source": [
    "plt.scatter(['Bad Clarity', 'Bad Color', 'Good Grades'], [bad_clarity, bad_color, good_diamond])\n",
    "plt.title('0.5 Carat Diamonds with Similar Characteristics')\n",
    "plt.ylabel('Price USD')"
   ]
  },
  {
   "cell_type": "code",
   "execution_count": null,
   "id": "073c6071",
   "metadata": {},
   "outputs": [],
   "source": [
    "'''\n",
    "Exploring the third question: Is it possible to know if you're getting a good price?\n",
    "\n",
    "Plan: Create a basic linear regression model. Based on the data given (weighed mostly the 4 C's),\n",
    "      it will predict the price of a diamond.\n",
    "      \n",
    "      Since most engagement rings are round diamonds we will focus on those.\n",
    "\n",
    "'''"
   ]
  },
  {
   "cell_type": "code",
   "execution_count": 120,
   "id": "40016c5a",
   "metadata": {},
   "outputs": [],
   "source": [
    "round_df = df[df['Shape'] == 'ROUND']\n",
    "y = round_df['Price']\n",
    "# drop unneccesary data\n",
    "round_df = round_df.drop(['Id', 'Shape', 'Price', 'Data Url', 'Measurements'], axis=1)"
   ]
  },
  {
   "cell_type": "code",
   "execution_count": 121,
   "id": "99a57221",
   "metadata": {},
   "outputs": [],
   "source": [
    "# create dummy variables for categorical data\n",
    "cat_cols = round_df.select_dtypes(include=['object']).copy().columns\n",
    "for var in cat_cols:\n",
    "    round_df = pd.concat([round_df.drop(var, axis=1), pd.get_dummies(round_df[var], prefix=var, prefix_sep='_', drop_first=True)], axis=1)\n",
    "X = round_df"
   ]
  },
  {
   "cell_type": "code",
   "execution_count": 122,
   "id": "e9a4b9c5",
   "metadata": {},
   "outputs": [
    {
     "name": "stdout",
     "output_type": "stream",
     "text": [
      "The r-squared on the training data was 0.9214381403911955\n",
      "The r-squared on the test data was 0.9367783926755183\n"
     ]
    }
   ],
   "source": [
    "X_train, X_test, y_train, y_test = train_test_split(X, y, test_size=.30, random_state=42) #split data into train/test\n",
    "lm_model = LinearRegression() # Instantiate\n",
    "lm_model.fit(X_train, y_train) #Fit\n",
    "\n",
    "# Predict using your model\n",
    "y_test_preds = lm_model.predict(X_test)\n",
    "y_train_preds = lm_model.predict(X_train)\n",
    "\n",
    "# Score using your model\n",
    "test_score = r2_score(y_test, y_test_preds)\n",
    "train_score = r2_score(y_train, y_train_preds)\n",
    "\n",
    "print('The r-squared on the training data was', train_score)\n",
    "print('The r-squared on the test data was', test_score)"
   ]
  },
  {
   "cell_type": "code",
   "execution_count": null,
   "id": "d2030cf8",
   "metadata": {},
   "outputs": [],
   "source": []
  },
  {
   "cell_type": "code",
   "execution_count": null,
   "id": "2dd27a99",
   "metadata": {},
   "outputs": [],
   "source": []
  }
 ],
 "metadata": {
  "kernelspec": {
   "display_name": "Python 3 (ipykernel)",
   "language": "python",
   "name": "python3"
  },
  "language_info": {
   "codemirror_mode": {
    "name": "ipython",
    "version": 3
   },
   "file_extension": ".py",
   "mimetype": "text/x-python",
   "name": "python",
   "nbconvert_exporter": "python",
   "pygments_lexer": "ipython3",
   "version": "3.9.7"
  }
 },
 "nbformat": 4,
 "nbformat_minor": 5
}
