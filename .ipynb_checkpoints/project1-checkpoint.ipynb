{
 "cells": [
  {
   "cell_type": "code",
   "execution_count": 1,
   "id": "9544e098",
   "metadata": {},
   "outputs": [],
   "source": [
    "import numpy as np\n",
    "import pandas as pd\n",
    "import matplotlib.pyplot as plt\n",
    "from sklearn.linear_model import LinearRegression\n",
    "from sklearn.model_selection import train_test_split\n",
    "from sklearn.metrics import r2_score, mean_squared_error"
   ]
  },
  {
   "cell_type": "code",
   "execution_count": 3,
   "id": "50e9fc58",
   "metadata": {},
   "outputs": [
    {
     "data": {
      "text/plain": [
       "Id               object\n",
       "Shape            object\n",
       "Weight          float64\n",
       "Clarity          object\n",
       "Colour           object\n",
       "Cut              object\n",
       "Polish           object\n",
       "Symmetry         object\n",
       "Fluorescence     object\n",
       "Measurements     object\n",
       "Price           float64\n",
       "Data Url         object\n",
       "dtype: object"
      ]
     },
     "execution_count": 3,
     "metadata": {},
     "output_type": "execute_result"
    }
   ],
   "source": [
    "# read in data sets\n",
    "df = pd.read_csv('./combined-data.csv')\n",
    "df.dtypes"
   ]
  },
  {
   "cell_type": "code",
   "execution_count": null,
   "id": "a5ff222a",
   "metadata": {},
   "outputs": [],
   "source": [
    "# clean data"
   ]
  },
  {
   "cell_type": "code",
   "execution_count": 12,
   "id": "814fdaf9",
   "metadata": {},
   "outputs": [],
   "source": [
    "# # convert strings in column 'Price' to floats\n",
    "# df['Price'] = df['Price'].astype(float)"
   ]
  },
  {
   "cell_type": "code",
   "execution_count": 19,
   "id": "e74f4f73",
   "metadata": {},
   "outputs": [
    {
     "name": "stdout",
     "output_type": "stream",
     "text": [
      "Index(['Id', 'Shape', 'Weight', 'Clarity', 'Colour', 'Cut', 'Polish',\n",
      "       'Symmetry', 'Fluorescence', 'Measurements', 'Price', 'Data Url'],\n",
      "      dtype='object')\n"
     ]
    },
    {
     "data": {
      "text/plain": [
       "ROUND       4197\n",
       "CUSHION     2101\n",
       "EMERALD      863\n",
       "OVAL         845\n",
       "HEART        693\n",
       "PRINCESS     624\n",
       "PEAR         317\n",
       "Name: Shape, dtype: int64"
      ]
     },
     "execution_count": 19,
     "metadata": {},
     "output_type": "execute_result"
    }
   ],
   "source": [
    "print(df.columns)\n",
    "df['Shape'].value_counts()"
   ]
  },
  {
   "cell_type": "code",
   "execution_count": 20,
   "id": "ecd1c8b4",
   "metadata": {},
   "outputs": [
    {
     "data": {
      "text/plain": [
       "0.50    2000\n",
       "0.30    1332\n",
       "0.23    1029\n",
       "0.40     385\n",
       "0.31     326\n",
       "        ... \n",
       "2.70       1\n",
       "2.20       1\n",
       "2.33       1\n",
       "1.46       1\n",
       "0.64       1\n",
       "Name: Weight, Length: 183, dtype: int64"
      ]
     },
     "execution_count": 20,
     "metadata": {},
     "output_type": "execute_result"
    }
   ],
   "source": [
    "df['Weight'].value_counts()"
   ]
  },
  {
   "cell_type": "code",
   "execution_count": 38,
   "id": "132f91eb",
   "metadata": {},
   "outputs": [
    {
     "name": "stdout",
     "output_type": "stream",
     "text": [
      "['PEAR', 'CUSHION', 'HEART', 'ROUND', 'PRINCESS', 'EMERALD', 'OVAL']\n",
      "[1987.5276190476195, 1348.5450289017335, 1009.5, 2012.1738067226868, 1544.6814090909093, 1331.709, 1586.9493537414971]\n",
      "[42, 173, 11, 1190, 220, 70, 294]\n"
     ]
    }
   ],
   "source": [
    "# grab diamonds that weigh half a carat\n",
    "hlf_crt = df[df['Weight'] == 0.5]\n",
    "shapes = list(set(df['Shape']))\n",
    "print(shapes)\n",
    "means = []\n",
    "num_sold = []\n",
    "for cut in shapes:\n",
    "    tmp_df = hlf_crt[hlf_crt['Shape'] == cut]\n",
    "    means.append(tmp_df['Price'].mean())\n",
    "    num_sold.append(len(tmp_df['Price']))\n",
    "print(means)\n",
    "print(num_sold)"
   ]
  },
  {
   "cell_type": "code",
   "execution_count": 6,
   "id": "f7c52841",
   "metadata": {},
   "outputs": [],
   "source": []
  },
  {
   "cell_type": "code",
   "execution_count": 41,
   "id": "a34a37f3",
   "metadata": {},
   "outputs": [
    {
     "data": {
      "image/png": "[encoded data removed]",
      "text/plain": [
       "<Figure size 432x288 with 1 Axes>"
      ]
     },
     "metadata": {
      "needs_background": "light"
     },
     "output_type": "display_data"
    }
   ],
   "source": [
    "# plot average prices\n",
    "plt.scatter(shapes, means)\n",
    "plt.xlabel(\"Cuts\")\n",
    "plt.ylabel(\"Price\")\n",
    "plt.title(\"Average Price for a 0.5 carat diamond\")\n",
    "plt.show()"
   ]
  },
  {
   "cell_type": "code",
   "execution_count": 56,
   "id": "126ee01d",
   "metadata": {},
   "outputs": [
    {
     "data": {
      "image/png": "[encoded data removed]",
      "text/plain": [
       "<Figure size 432x288 with 1 Axes>"
      ]
     },
     "metadata": {
      "needs_background": "light"
     },
     "output_type": "display_data"
    }
   ],
   "source": [
    "fig = plt.figure()\n",
    "ax = fig.add_axes([0,0,1,1])\n",
    "ax.bar(shapes, num_sold)\n",
    "plt.xlabel(\"Cuts\")\n",
    "plt.ylabel(\"Units Sold\")\n",
    "plt.title(\"Number of Units Sold\")\n",
    "plt.show()"
   ]
  },
  {
   "cell_type": "code",
   "execution_count": 42,
   "id": "40016c5a",
   "metadata": {},
   "outputs": [],
   "source": [
    "round_df = df[df['Shape'] == 'ROUND']\n",
    "y = round_df['Price']\n",
    "round_df = round_df.drop(['Id', 'Shape', 'Price', 'Data Url', 'Measurements'], axis=1)"
   ]
  },
  {
   "cell_type": "code",
   "execution_count": 43,
   "id": "99a57221",
   "metadata": {},
   "outputs": [],
   "source": [
    "cat_cols = round_df.select_dtypes(include=['object']).copy().columns\n",
    "for var in cat_cols:\n",
    "    round_df = pd.concat([round_df.drop(var, axis=1), pd.get_dummies(round_df[var], prefix=var, prefix_sep='_', drop_first=True)], axis=1)\n",
    "X = round_df"
   ]
  },
  {
   "cell_type": "code",
   "execution_count": 55,
   "id": "e9a4b9c5",
   "metadata": {},
   "outputs": [
    {
     "name": "stdout",
     "output_type": "stream",
     "text": [
      "The r-squared on the training data was 0.9214381403911955\n",
      "The r-squared on the test data was 0.9367783926755183\n"
     ]
    }
   ],
   "source": [
    "X_train, X_test, y_train, y_test = train_test_split(X, y, test_size=.30, random_state=42)\n",
    "lm_model = LinearRegression() # Instantiate\n",
    "lm_model.fit(X_train, y_train) #Fit\n",
    "\n",
    "# Predict using your model\n",
    "y_test_preds = lm_model.predict(X_test)\n",
    "y_train_preds = lm_model.predict(X_train)\n",
    "\n",
    "# Score using your model\n",
    "test_score = r2_score(y_test, y_test_preds)\n",
    "train_score = r2_score(y_train, y_train_preds)\n",
    "\n",
    "print('The r-squared on the training data was', train_score)\n",
    "print('The r-squared on the test data was', test_score)"
   ]
  },
  {
   "cell_type": "code",
   "execution_count": null,
   "id": "d2030cf8",
   "metadata": {},
   "outputs": [],
   "source": []
  },
  {
   "cell_type": "code",
   "execution_count": null,
   "id": "2dd27a99",
   "metadata": {},
   "outputs": [],
   "source": []
  }
 ],
 "metadata": {
  "kernelspec": {
   "display_name": "Python 3 (ipykernel)",
   "language": "python",
   "name": "python3"
  },
  "language_info": {
   "codemirror_mode": {
    "name": "ipython",
    "version": 3
   },
   "file_extension": ".py",
   "mimetype": "text/x-python",
   "name": "python",
   "nbconvert_exporter": "python",
   "pygments_lexer": "ipython3",
   "version": "3.9.7"
  }
 },
 "nbformat": 4,
 "nbformat_minor": 5
}
